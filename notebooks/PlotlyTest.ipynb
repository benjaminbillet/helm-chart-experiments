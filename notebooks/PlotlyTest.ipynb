{
 "cells": [
  {
   "cell_type": "code",
   "execution_count": null,
   "id": "0ce7a0c9",
   "metadata": {},
   "outputs": [],
   "source": [
    "import sys\n",
    "!{sys.executable} -m pip install plotly\n",
    "!{sys.executable} -m pip install pandas"
   ]
  },
  {
   "cell_type": "code",
   "execution_count": null,
   "id": "8cb7d597",
   "metadata": {},
   "outputs": [],
   "source": [
    "import plotly.express as px\n",
    "df = px.data.iris()\n",
    "fig = px.scatter(df, x=\"sepal_width\", y=\"sepal_length\", color=\"species\")\n",
    "fig.show()"
   ]
  },
  {
   "cell_type": "code",
   "execution_count": null,
   "id": "cc0ea0fe",
   "metadata": {},
   "outputs": [],
   "source": [
    "import requests\n",
    "\n",
    "bearer = \"<set token here>\"\n",
    "\n",
    "URL = \"https://dev1.ms.dev.symphony.com/api/dealer/v1/markets/search?limit=500\"\n",
    "searchParams = {\n",
    "    #\"keywords\": [],\n",
    "    #\"startDateTime\": \"2021-05-06T10:06:06.916685Z\",\n",
    "    #\"endDateTime\": \"2021-08-30T10:06:06.916685Z\"\n",
    "}\n",
    "\n",
    "r = requests.post(url = URL, json = searchParams, headers = {'Authorization': bearer})\n",
    "\n",
    "responseData = r.json()\n",
    "print(responseData)"
   ]
  },
  {
   "cell_type": "code",
   "execution_count": null,
   "id": "3c75236f",
   "metadata": {},
   "outputs": [],
   "source": [
    "import pandas as pd\n",
    "\n",
    "dataset = dict()\n",
    "for market in responseData[\"markets\"]:\n",
    "    instrument = market[\"legs\"][0][\"instrument\"]\n",
    "    currencyPair = instrument[\"baseCurrency\"] + instrument[\"quoteCurrency\"]\n",
    "    tenor = instrument[\"tenor\"]\n",
    "    side = market[\"side\"]\n",
    "\n",
    "    foundPair = dataset.get(currencyPair, {})\n",
    "    foundPair[tenor] = foundPair.get(tenor, 0) + 1\n",
    "    dataset[currencyPair] = foundPair\n",
    "\n",
    "currencypairs = []\n",
    "tenors = []\n",
    "counts = []\n",
    "\n",
    "for currencyPair, data in dataset.items():\n",
    "    for tenor, count in data.items():\n",
    "        currencypairs.append(currencyPair)\n",
    "        tenors.append(tenor)\n",
    "        counts.append(count)\n",
    "\n",
    "df = pd.DataFrame(dict(currencypair=currencypairs, tenor=tenors, count=counts))\n",
    "\n",
    "fig = px.treemap(df, path=[px.Constant(\"all\"), 'currencypair', 'tenor'], values='count')\n",
    "fig.update_traces(root_color=\"lightgrey\")\n",
    "fig.update_layout(margin = dict(t=50, l=25, r=25, b=25))\n",
    "fig.show()"
   ]
  },
  {
   "cell_type": "code",
   "execution_count": null,
   "id": "67ad751a",
   "metadata": {},
   "outputs": [],
   "source": []
  }
 ],
 "metadata": {
  "kernelspec": {
   "display_name": "Python 3 (ipykernel)",
   "language": "python",
   "name": "python3"
  },
  "language_info": {
   "codemirror_mode": {
    "name": "ipython",
    "version": 3
   },
   "file_extension": ".py",
   "mimetype": "text/x-python",
   "name": "python",
   "nbconvert_exporter": "python",
   "pygments_lexer": "ipython3",
   "version": "3.9.5"
  }
 },
 "nbformat": 4,
 "nbformat_minor": 5
}